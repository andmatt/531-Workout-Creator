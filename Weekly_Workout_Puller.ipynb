{
 "cells": [
  {
   "cell_type": "markdown",
   "metadata": {},
   "source": [
    "### Imports"
   ]
  },
  {
   "cell_type": "code",
   "execution_count": 1,
   "metadata": {
    "collapsed": true
   },
   "outputs": [],
   "source": [
    "import pandas as pd\n",
    "import gspread\n",
    "from oauth2client.service_account import ServiceAccountCredentials"
   ]
  },
  {
   "cell_type": "markdown",
   "metadata": {},
   "source": [
    "### Initialize Google Sheets API"
   ]
  },
  {
   "cell_type": "code",
   "execution_count": 2,
   "metadata": {
    "collapsed": true
   },
   "outputs": [],
   "source": [
    "scopes = ['https://spreadsheets.google.com/feeds', 'https://www.googleapis.com/auth/gmail.compose']\n",
    "creds=ServiceAccountCredentials.from_json_keyfile_name('client_secret.json', scopes)\n",
    "client = gspread.authorize(creds)"
   ]
  },
  {
   "cell_type": "code",
   "execution_count": 3,
   "metadata": {
    "collapsed": true
   },
   "outputs": [],
   "source": [
    "sheet = client.open('5-3-1 Workout Weights')"
   ]
  },
  {
   "cell_type": "code",
   "execution_count": 4,
   "metadata": {
    "collapsed": true
   },
   "outputs": [],
   "source": [
    "matt = sheet.worksheet('Matt')"
   ]
  },
  {
   "cell_type": "code",
   "execution_count": 5,
   "metadata": {
    "collapsed": true,
    "scrolled": false
   },
   "outputs": [],
   "source": [
    "andmatt = pd.DataFrame(matt.get_all_values())"
   ]
  },
  {
   "cell_type": "code",
   "execution_count": 7,
   "metadata": {
    "collapsed": false,
    "scrolled": true
   },
   "outputs": [
    {
     "data": {
      "text/html": [
       "<div>\n",
       "<table border=\"1\" class=\"dataframe\">\n",
       "  <thead>\n",
       "    <tr style=\"text-align: right;\">\n",
       "      <th></th>\n",
       "      <th>0</th>\n",
       "      <th>1</th>\n",
       "      <th>2</th>\n",
       "      <th>3</th>\n",
       "      <th>4</th>\n",
       "      <th>5</th>\n",
       "      <th>6</th>\n",
       "      <th>7</th>\n",
       "      <th>8</th>\n",
       "      <th>9</th>\n",
       "      <th>10</th>\n",
       "      <th>11</th>\n",
       "      <th>12</th>\n",
       "      <th>13</th>\n",
       "      <th>14</th>\n",
       "      <th>15</th>\n",
       "    </tr>\n",
       "  </thead>\n",
       "  <tbody>\n",
       "    <tr>\n",
       "      <th>0</th>\n",
       "      <td></td>\n",
       "      <td></td>\n",
       "      <td></td>\n",
       "      <td></td>\n",
       "      <td></td>\n",
       "      <td></td>\n",
       "      <td></td>\n",
       "      <td></td>\n",
       "      <td></td>\n",
       "      <td></td>\n",
       "      <td></td>\n",
       "      <td></td>\n",
       "      <td></td>\n",
       "      <td></td>\n",
       "      <td></td>\n",
       "      <td></td>\n",
       "    </tr>\n",
       "    <tr>\n",
       "      <th>1</th>\n",
       "      <td></td>\n",
       "      <td>Today:</td>\n",
       "      <td>5/31/2017</td>\n",
       "      <td>5/28/2017</td>\n",
       "      <td></td>\n",
       "      <td></td>\n",
       "      <td></td>\n",
       "      <td></td>\n",
       "      <td></td>\n",
       "      <td></td>\n",
       "      <td></td>\n",
       "      <td></td>\n",
       "      <td></td>\n",
       "      <td></td>\n",
       "      <td></td>\n",
       "      <td></td>\n",
       "    </tr>\n",
       "    <tr>\n",
       "      <th>2</th>\n",
       "      <td></td>\n",
       "      <td>Month:</td>\n",
       "      <td>1</td>\n",
       "      <td></td>\n",
       "      <td></td>\n",
       "      <td></td>\n",
       "      <td></td>\n",
       "      <td></td>\n",
       "      <td></td>\n",
       "      <td></td>\n",
       "      <td></td>\n",
       "      <td></td>\n",
       "      <td></td>\n",
       "      <td></td>\n",
       "      <td></td>\n",
       "      <td></td>\n",
       "    </tr>\n",
       "    <tr>\n",
       "      <th>3</th>\n",
       "      <td></td>\n",
       "      <td></td>\n",
       "      <td></td>\n",
       "      <td></td>\n",
       "      <td></td>\n",
       "      <td></td>\n",
       "      <td></td>\n",
       "      <td></td>\n",
       "      <td></td>\n",
       "      <td></td>\n",
       "      <td></td>\n",
       "      <td></td>\n",
       "      <td></td>\n",
       "      <td></td>\n",
       "      <td></td>\n",
       "      <td></td>\n",
       "    </tr>\n",
       "    <tr>\n",
       "      <th>4</th>\n",
       "      <td></td>\n",
       "      <td></td>\n",
       "      <td></td>\n",
       "      <td>Core Exercises</td>\n",
       "      <td></td>\n",
       "      <td></td>\n",
       "      <td></td>\n",
       "      <td></td>\n",
       "      <td>1 Rep Max Progression</td>\n",
       "      <td></td>\n",
       "      <td></td>\n",
       "      <td></td>\n",
       "      <td></td>\n",
       "      <td></td>\n",
       "      <td></td>\n",
       "      <td></td>\n",
       "    </tr>\n",
       "    <tr>\n",
       "      <th>5</th>\n",
       "      <td></td>\n",
       "      <td></td>\n",
       "      <td></td>\n",
       "      <td>165</td>\n",
       "      <td>155</td>\n",
       "      <td>225</td>\n",
       "      <td>100</td>\n",
       "      <td></td>\n",
       "      <td>Month #</td>\n",
       "      <td>Start</td>\n",
       "      <td>Squat</td>\n",
       "      <td>Bench</td>\n",
       "      <td>Deadlift</td>\n",
       "      <td>OHP</td>\n",
       "      <td></td>\n",
       "      <td></td>\n",
       "    </tr>\n",
       "    <tr>\n",
       "      <th>6</th>\n",
       "      <td></td>\n",
       "      <td>Week:</td>\n",
       "      <td>Set:</td>\n",
       "      <td>Squat</td>\n",
       "      <td>Bench</td>\n",
       "      <td>Deadlift</td>\n",
       "      <td>OHP</td>\n",
       "      <td></td>\n",
       "      <td>1</td>\n",
       "      <td>5/28/17</td>\n",
       "      <td>165</td>\n",
       "      <td>155</td>\n",
       "      <td>225</td>\n",
       "      <td>100</td>\n",
       "      <td>6/24/17</td>\n",
       "      <td>1</td>\n",
       "    </tr>\n",
       "    <tr>\n",
       "      <th>7</th>\n",
       "      <td></td>\n",
       "      <td>Week 1</td>\n",
       "      <td>Set 1:</td>\n",
       "      <td>110 lb x 5</td>\n",
       "      <td>105 lb x 5</td>\n",
       "      <td>150 lb x 5</td>\n",
       "      <td>65 lb x 5</td>\n",
       "      <td></td>\n",
       "      <td>2</td>\n",
       "      <td>6/25/17</td>\n",
       "      <td>175</td>\n",
       "      <td>165</td>\n",
       "      <td>235</td>\n",
       "      <td>110</td>\n",
       "      <td>7/22/17</td>\n",
       "      <td>0</td>\n",
       "    </tr>\n",
       "    <tr>\n",
       "      <th>8</th>\n",
       "      <td></td>\n",
       "      <td></td>\n",
       "      <td>Set 2:</td>\n",
       "      <td>125 lb x 5</td>\n",
       "      <td>120 lb x 5</td>\n",
       "      <td>170 lb x 5</td>\n",
       "      <td>75 lb x 5</td>\n",
       "      <td></td>\n",
       "      <td>3</td>\n",
       "      <td>7/23/17</td>\n",
       "      <td>185</td>\n",
       "      <td>175</td>\n",
       "      <td>245</td>\n",
       "      <td>120</td>\n",
       "      <td>8/19/17</td>\n",
       "      <td>0</td>\n",
       "    </tr>\n",
       "    <tr>\n",
       "      <th>9</th>\n",
       "      <td></td>\n",
       "      <td></td>\n",
       "      <td>Set 3:</td>\n",
       "      <td>145 lb x 5+</td>\n",
       "      <td>135 lb x 5+</td>\n",
       "      <td>195 lb x 5+</td>\n",
       "      <td>85 lb x 5+</td>\n",
       "      <td></td>\n",
       "      <td>4</td>\n",
       "      <td>8/20/17</td>\n",
       "      <td>195</td>\n",
       "      <td>185</td>\n",
       "      <td>255</td>\n",
       "      <td>130</td>\n",
       "      <td>9/16/17</td>\n",
       "      <td>0</td>\n",
       "    </tr>\n",
       "    <tr>\n",
       "      <th>10</th>\n",
       "      <td></td>\n",
       "      <td>Week 2</td>\n",
       "      <td>Set 1:</td>\n",
       "      <td>120 lb x 3</td>\n",
       "      <td>110 lb x 3</td>\n",
       "      <td>160 lb x 3</td>\n",
       "      <td>70 lb x 3</td>\n",
       "      <td></td>\n",
       "      <td>5</td>\n",
       "      <td>9/17/17</td>\n",
       "      <td>205</td>\n",
       "      <td>195</td>\n",
       "      <td>265</td>\n",
       "      <td>140</td>\n",
       "      <td>10/14/17</td>\n",
       "      <td>0</td>\n",
       "    </tr>\n",
       "    <tr>\n",
       "      <th>11</th>\n",
       "      <td></td>\n",
       "      <td></td>\n",
       "      <td>Set 2:</td>\n",
       "      <td>135 lb x 3</td>\n",
       "      <td>125 lb x 3</td>\n",
       "      <td>180 lb x 3</td>\n",
       "      <td>80 lb x 3</td>\n",
       "      <td></td>\n",
       "      <td>6</td>\n",
       "      <td>10/15/17</td>\n",
       "      <td>215</td>\n",
       "      <td>205</td>\n",
       "      <td>275</td>\n",
       "      <td>150</td>\n",
       "      <td>11/11/17</td>\n",
       "      <td>0</td>\n",
       "    </tr>\n",
       "    <tr>\n",
       "      <th>12</th>\n",
       "      <td></td>\n",
       "      <td></td>\n",
       "      <td>Set 3:</td>\n",
       "      <td>150 lb x 3+</td>\n",
       "      <td>140 lb x 3+</td>\n",
       "      <td>205 lb x 3+</td>\n",
       "      <td>90 lb x 3+</td>\n",
       "      <td></td>\n",
       "      <td>7</td>\n",
       "      <td>11/12/17</td>\n",
       "      <td>225</td>\n",
       "      <td>215</td>\n",
       "      <td>285</td>\n",
       "      <td>160</td>\n",
       "      <td>12/9/17</td>\n",
       "      <td>0</td>\n",
       "    </tr>\n",
       "    <tr>\n",
       "      <th>13</th>\n",
       "      <td></td>\n",
       "      <td>Week 3</td>\n",
       "      <td>Set 1:</td>\n",
       "      <td>125 lb x 5</td>\n",
       "      <td>120 lb x 5</td>\n",
       "      <td>170 lb x 5</td>\n",
       "      <td>75 lb x 5</td>\n",
       "      <td></td>\n",
       "      <td>8</td>\n",
       "      <td>12/10/17</td>\n",
       "      <td>235</td>\n",
       "      <td>225</td>\n",
       "      <td>295</td>\n",
       "      <td>170</td>\n",
       "      <td>1/6/18</td>\n",
       "      <td>0</td>\n",
       "    </tr>\n",
       "    <tr>\n",
       "      <th>14</th>\n",
       "      <td></td>\n",
       "      <td></td>\n",
       "      <td>Set 2:</td>\n",
       "      <td>145 lb x 3</td>\n",
       "      <td>135 lb x 3</td>\n",
       "      <td>195 lb x 3</td>\n",
       "      <td>85 lb x 3</td>\n",
       "      <td></td>\n",
       "      <td>9</td>\n",
       "      <td>1/7/18</td>\n",
       "      <td>245</td>\n",
       "      <td>235</td>\n",
       "      <td>305</td>\n",
       "      <td>180</td>\n",
       "      <td>2/3/18</td>\n",
       "      <td>0</td>\n",
       "    </tr>\n",
       "    <tr>\n",
       "      <th>15</th>\n",
       "      <td></td>\n",
       "      <td></td>\n",
       "      <td>Set 3:</td>\n",
       "      <td>160 lb x 1+</td>\n",
       "      <td>150 lb x 1+</td>\n",
       "      <td>215 lb x 1+</td>\n",
       "      <td>95 lb x 1+</td>\n",
       "      <td></td>\n",
       "      <td>10</td>\n",
       "      <td>2/4/18</td>\n",
       "      <td>255</td>\n",
       "      <td>245</td>\n",
       "      <td>315</td>\n",
       "      <td>190</td>\n",
       "      <td>3/3/18</td>\n",
       "      <td>0</td>\n",
       "    </tr>\n",
       "    <tr>\n",
       "      <th>16</th>\n",
       "      <td></td>\n",
       "      <td>Week 4 (Deload)</td>\n",
       "      <td>Set 1:</td>\n",
       "      <td>70 lb x 5+</td>\n",
       "      <td>65 lb x 5+</td>\n",
       "      <td>90 lb x 5+</td>\n",
       "      <td>40 lb x 5+</td>\n",
       "      <td></td>\n",
       "      <td>11</td>\n",
       "      <td>3/4/18</td>\n",
       "      <td>265</td>\n",
       "      <td>255</td>\n",
       "      <td>325</td>\n",
       "      <td>200</td>\n",
       "      <td>3/31/18</td>\n",
       "      <td>0</td>\n",
       "    </tr>\n",
       "    <tr>\n",
       "      <th>17</th>\n",
       "      <td></td>\n",
       "      <td></td>\n",
       "      <td>Set 2:</td>\n",
       "      <td>85 lb x 5+</td>\n",
       "      <td>80 lb x 5+</td>\n",
       "      <td>115 lb x 5+</td>\n",
       "      <td>50 lb x 5+</td>\n",
       "      <td></td>\n",
       "      <td>12</td>\n",
       "      <td>4/1/18</td>\n",
       "      <td>275</td>\n",
       "      <td>265</td>\n",
       "      <td>335</td>\n",
       "      <td>210</td>\n",
       "      <td>4/28/18</td>\n",
       "      <td>0</td>\n",
       "    </tr>\n",
       "    <tr>\n",
       "      <th>18</th>\n",
       "      <td></td>\n",
       "      <td></td>\n",
       "      <td>Set 3:</td>\n",
       "      <td>100 lb x 5+</td>\n",
       "      <td>95 lb x 5+</td>\n",
       "      <td>135 lb x 5+</td>\n",
       "      <td>60 lb x 5+</td>\n",
       "      <td></td>\n",
       "      <td>13</td>\n",
       "      <td>4/29/18</td>\n",
       "      <td>285</td>\n",
       "      <td>275</td>\n",
       "      <td>345</td>\n",
       "      <td>220</td>\n",
       "      <td>5/26/18</td>\n",
       "      <td>0</td>\n",
       "    </tr>\n",
       "    <tr>\n",
       "      <th>19</th>\n",
       "      <td></td>\n",
       "      <td></td>\n",
       "      <td></td>\n",
       "      <td></td>\n",
       "      <td></td>\n",
       "      <td></td>\n",
       "      <td></td>\n",
       "      <td></td>\n",
       "      <td>14</td>\n",
       "      <td>5/27/18</td>\n",
       "      <td>295</td>\n",
       "      <td>285</td>\n",
       "      <td>355</td>\n",
       "      <td>230</td>\n",
       "      <td>6/23/18</td>\n",
       "      <td>0</td>\n",
       "    </tr>\n",
       "    <tr>\n",
       "      <th>20</th>\n",
       "      <td></td>\n",
       "      <td></td>\n",
       "      <td></td>\n",
       "      <td>Accessory Work</td>\n",
       "      <td></td>\n",
       "      <td></td>\n",
       "      <td></td>\n",
       "      <td></td>\n",
       "      <td></td>\n",
       "      <td></td>\n",
       "      <td></td>\n",
       "      <td></td>\n",
       "      <td></td>\n",
       "      <td></td>\n",
       "      <td></td>\n",
       "      <td></td>\n",
       "    </tr>\n",
       "    <tr>\n",
       "      <th>21</th>\n",
       "      <td></td>\n",
       "      <td></td>\n",
       "      <td></td>\n",
       "      <td>Hack Squat</td>\n",
       "      <td>Dips</td>\n",
       "      <td>Rows</td>\n",
       "      <td>Sitting D.Bell Press</td>\n",
       "      <td></td>\n",
       "      <td></td>\n",
       "      <td></td>\n",
       "      <td></td>\n",
       "      <td></td>\n",
       "      <td></td>\n",
       "      <td></td>\n",
       "      <td></td>\n",
       "      <td></td>\n",
       "    </tr>\n",
       "    <tr>\n",
       "      <th>22</th>\n",
       "      <td></td>\n",
       "      <td></td>\n",
       "      <td></td>\n",
       "      <td>225lb 4x10</td>\n",
       "      <td>4x10</td>\n",
       "      <td>90lb 4x10</td>\n",
       "      <td>45lb 4x10</td>\n",
       "      <td></td>\n",
       "      <td></td>\n",
       "      <td></td>\n",
       "      <td></td>\n",
       "      <td></td>\n",
       "      <td></td>\n",
       "      <td></td>\n",
       "      <td></td>\n",
       "      <td></td>\n",
       "    </tr>\n",
       "    <tr>\n",
       "      <th>23</th>\n",
       "      <td></td>\n",
       "      <td></td>\n",
       "      <td></td>\n",
       "      <td>Romanian DL</td>\n",
       "      <td>Incline D.Bell Press</td>\n",
       "      <td>Lat Pull Down</td>\n",
       "      <td>Rear Delt Flys</td>\n",
       "      <td></td>\n",
       "      <td></td>\n",
       "      <td></td>\n",
       "      <td></td>\n",
       "      <td></td>\n",
       "      <td></td>\n",
       "      <td></td>\n",
       "      <td></td>\n",
       "      <td></td>\n",
       "    </tr>\n",
       "    <tr>\n",
       "      <th>24</th>\n",
       "      <td></td>\n",
       "      <td></td>\n",
       "      <td></td>\n",
       "      <td>90lb 4x10</td>\n",
       "      <td>45lb 4x10</td>\n",
       "      <td>80lb 4x10</td>\n",
       "      <td>25lb 4x10</td>\n",
       "      <td></td>\n",
       "      <td></td>\n",
       "      <td></td>\n",
       "      <td></td>\n",
       "      <td></td>\n",
       "      <td></td>\n",
       "      <td></td>\n",
       "      <td></td>\n",
       "      <td></td>\n",
       "    </tr>\n",
       "    <tr>\n",
       "      <th>25</th>\n",
       "      <td></td>\n",
       "      <td></td>\n",
       "      <td></td>\n",
       "      <td>Calf Raise</td>\n",
       "      <td>Cable Tricep Ext.</td>\n",
       "      <td>Curls</td>\n",
       "      <td>Front / Side Raises</td>\n",
       "      <td></td>\n",
       "      <td></td>\n",
       "      <td></td>\n",
       "      <td></td>\n",
       "      <td></td>\n",
       "      <td></td>\n",
       "      <td></td>\n",
       "      <td></td>\n",
       "      <td></td>\n",
       "    </tr>\n",
       "    <tr>\n",
       "      <th>26</th>\n",
       "      <td></td>\n",
       "      <td></td>\n",
       "      <td></td>\n",
       "      <td>75lb 4x10</td>\n",
       "      <td>80lb 4x10</td>\n",
       "      <td>30lb 4x10</td>\n",
       "      <td>17.5lb 4x10</td>\n",
       "      <td></td>\n",
       "      <td></td>\n",
       "      <td></td>\n",
       "      <td></td>\n",
       "      <td></td>\n",
       "      <td></td>\n",
       "      <td></td>\n",
       "      <td></td>\n",
       "      <td></td>\n",
       "    </tr>\n",
       "  </tbody>\n",
       "</table>\n",
       "</div>"
      ],
      "text/plain": [
       "   0                1          2               3                     4   \\\n",
       "0                                                                         \n",
       "1               Today:  5/31/2017       5/28/2017                         \n",
       "2               Month:          1                                         \n",
       "3                                                                         \n",
       "4                                  Core Exercises                         \n",
       "5                                             165                   155   \n",
       "6                Week:       Set:           Squat                 Bench   \n",
       "7               Week 1     Set 1:      110 lb x 5            105 lb x 5   \n",
       "8                          Set 2:      125 lb x 5            120 lb x 5   \n",
       "9                          Set 3:     145 lb x 5+           135 lb x 5+   \n",
       "10              Week 2     Set 1:      120 lb x 3            110 lb x 3   \n",
       "11                         Set 2:      135 lb x 3            125 lb x 3   \n",
       "12                         Set 3:     150 lb x 3+           140 lb x 3+   \n",
       "13              Week 3     Set 1:      125 lb x 5            120 lb x 5   \n",
       "14                         Set 2:      145 lb x 3            135 lb x 3   \n",
       "15                         Set 3:     160 lb x 1+           150 lb x 1+   \n",
       "16     Week 4 (Deload)     Set 1:      70 lb x 5+            65 lb x 5+   \n",
       "17                         Set 2:      85 lb x 5+            80 lb x 5+   \n",
       "18                         Set 3:     100 lb x 5+            95 lb x 5+   \n",
       "19                                                                        \n",
       "20                                 Accessory Work                         \n",
       "21                                     Hack Squat                  Dips   \n",
       "22                                     225lb 4x10                  4x10   \n",
       "23                                    Romanian DL  Incline D.Bell Press   \n",
       "24                                      90lb 4x10             45lb 4x10   \n",
       "25                                     Calf Raise     Cable Tricep Ext.   \n",
       "26                                      75lb 4x10             80lb 4x10   \n",
       "\n",
       "               5                     6  7                      8         9   \\\n",
       "0                                                                             \n",
       "1                                                                             \n",
       "2                                                                             \n",
       "3                                                                             \n",
       "4                                           1 Rep Max Progression             \n",
       "5             225                   100                   Month #     Start   \n",
       "6        Deadlift                   OHP                         1   5/28/17   \n",
       "7      150 lb x 5             65 lb x 5                         2   6/25/17   \n",
       "8      170 lb x 5             75 lb x 5                         3   7/23/17   \n",
       "9     195 lb x 5+            85 lb x 5+                         4   8/20/17   \n",
       "10     160 lb x 3             70 lb x 3                         5   9/17/17   \n",
       "11     180 lb x 3             80 lb x 3                         6  10/15/17   \n",
       "12    205 lb x 3+            90 lb x 3+                         7  11/12/17   \n",
       "13     170 lb x 5             75 lb x 5                         8  12/10/17   \n",
       "14     195 lb x 3             85 lb x 3                         9    1/7/18   \n",
       "15    215 lb x 1+            95 lb x 1+                        10    2/4/18   \n",
       "16     90 lb x 5+            40 lb x 5+                        11    3/4/18   \n",
       "17    115 lb x 5+            50 lb x 5+                        12    4/1/18   \n",
       "18    135 lb x 5+            60 lb x 5+                        13   4/29/18   \n",
       "19                                                             14   5/27/18   \n",
       "20                                                                            \n",
       "21           Rows  Sitting D.Bell Press                                       \n",
       "22      90lb 4x10             45lb 4x10                                       \n",
       "23  Lat Pull Down        Rear Delt Flys                                       \n",
       "24      80lb 4x10             25lb 4x10                                       \n",
       "25          Curls   Front / Side Raises                                       \n",
       "26      30lb 4x10           17.5lb 4x10                                       \n",
       "\n",
       "       10     11        12   13        14 15  \n",
       "0                                             \n",
       "1                                             \n",
       "2                                             \n",
       "3                                             \n",
       "4                                             \n",
       "5   Squat  Bench  Deadlift  OHP               \n",
       "6     165    155       225  100   6/24/17  1  \n",
       "7     175    165       235  110   7/22/17  0  \n",
       "8     185    175       245  120   8/19/17  0  \n",
       "9     195    185       255  130   9/16/17  0  \n",
       "10    205    195       265  140  10/14/17  0  \n",
       "11    215    205       275  150  11/11/17  0  \n",
       "12    225    215       285  160   12/9/17  0  \n",
       "13    235    225       295  170    1/6/18  0  \n",
       "14    245    235       305  180    2/3/18  0  \n",
       "15    255    245       315  190    3/3/18  0  \n",
       "16    265    255       325  200   3/31/18  0  \n",
       "17    275    265       335  210   4/28/18  0  \n",
       "18    285    275       345  220   5/26/18  0  \n",
       "19    295    285       355  230   6/23/18  0  \n",
       "20                                            \n",
       "21                                            \n",
       "22                                            \n",
       "23                                            \n",
       "24                                            \n",
       "25                                            \n",
       "26                                            "
      ]
     },
     "execution_count": 7,
     "metadata": {},
     "output_type": "execute_result"
    }
   ],
   "source": [
    "andmatt"
   ]
  },
  {
   "cell_type": "markdown",
   "metadata": {},
   "source": [
    "### Generate Main Workout DF"
   ]
  },
  {
   "cell_type": "code",
   "execution_count": 8,
   "metadata": {
    "collapsed": true
   },
   "outputs": [],
   "source": [
    "main = andmatt.loc[6:18, 1:6]\n",
    "main.columns = main.iloc[0]\n",
    "main = main.reset_index(drop = True).iloc[1:]\n",
    "main.columns.name = None"
   ]
  },
  {
   "cell_type": "code",
   "execution_count": 9,
   "metadata": {
    "collapsed": true
   },
   "outputs": [],
   "source": [
    "main[main==\"\"] = None\n",
    "main.fillna(method='ffill', inplace = True)"
   ]
  },
  {
   "cell_type": "code",
   "execution_count": 10,
   "metadata": {
    "collapsed": false
   },
   "outputs": [
    {
     "data": {
      "text/html": [
       "<div>\n",
       "<table border=\"1\" class=\"dataframe\">\n",
       "  <thead>\n",
       "    <tr style=\"text-align: right;\">\n",
       "      <th></th>\n",
       "      <th>Week:</th>\n",
       "      <th>Set:</th>\n",
       "      <th>Squat</th>\n",
       "      <th>Bench</th>\n",
       "      <th>Deadlift</th>\n",
       "      <th>OHP</th>\n",
       "    </tr>\n",
       "  </thead>\n",
       "  <tbody>\n",
       "    <tr>\n",
       "      <th>1</th>\n",
       "      <td>Week 1</td>\n",
       "      <td>Set 1:</td>\n",
       "      <td>110 lb x 5</td>\n",
       "      <td>105 lb x 5</td>\n",
       "      <td>150 lb x 5</td>\n",
       "      <td>65 lb x 5</td>\n",
       "    </tr>\n",
       "    <tr>\n",
       "      <th>2</th>\n",
       "      <td>Week 1</td>\n",
       "      <td>Set 2:</td>\n",
       "      <td>125 lb x 5</td>\n",
       "      <td>120 lb x 5</td>\n",
       "      <td>170 lb x 5</td>\n",
       "      <td>75 lb x 5</td>\n",
       "    </tr>\n",
       "    <tr>\n",
       "      <th>3</th>\n",
       "      <td>Week 1</td>\n",
       "      <td>Set 3:</td>\n",
       "      <td>145 lb x 5+</td>\n",
       "      <td>135 lb x 5+</td>\n",
       "      <td>195 lb x 5+</td>\n",
       "      <td>85 lb x 5+</td>\n",
       "    </tr>\n",
       "    <tr>\n",
       "      <th>4</th>\n",
       "      <td>Week 2</td>\n",
       "      <td>Set 1:</td>\n",
       "      <td>120 lb x 3</td>\n",
       "      <td>110 lb x 3</td>\n",
       "      <td>160 lb x 3</td>\n",
       "      <td>70 lb x 3</td>\n",
       "    </tr>\n",
       "    <tr>\n",
       "      <th>5</th>\n",
       "      <td>Week 2</td>\n",
       "      <td>Set 2:</td>\n",
       "      <td>135 lb x 3</td>\n",
       "      <td>125 lb x 3</td>\n",
       "      <td>180 lb x 3</td>\n",
       "      <td>80 lb x 3</td>\n",
       "    </tr>\n",
       "    <tr>\n",
       "      <th>6</th>\n",
       "      <td>Week 2</td>\n",
       "      <td>Set 3:</td>\n",
       "      <td>150 lb x 3+</td>\n",
       "      <td>140 lb x 3+</td>\n",
       "      <td>205 lb x 3+</td>\n",
       "      <td>90 lb x 3+</td>\n",
       "    </tr>\n",
       "    <tr>\n",
       "      <th>7</th>\n",
       "      <td>Week 3</td>\n",
       "      <td>Set 1:</td>\n",
       "      <td>125 lb x 5</td>\n",
       "      <td>120 lb x 5</td>\n",
       "      <td>170 lb x 5</td>\n",
       "      <td>75 lb x 5</td>\n",
       "    </tr>\n",
       "    <tr>\n",
       "      <th>8</th>\n",
       "      <td>Week 3</td>\n",
       "      <td>Set 2:</td>\n",
       "      <td>145 lb x 3</td>\n",
       "      <td>135 lb x 3</td>\n",
       "      <td>195 lb x 3</td>\n",
       "      <td>85 lb x 3</td>\n",
       "    </tr>\n",
       "    <tr>\n",
       "      <th>9</th>\n",
       "      <td>Week 3</td>\n",
       "      <td>Set 3:</td>\n",
       "      <td>160 lb x 1+</td>\n",
       "      <td>150 lb x 1+</td>\n",
       "      <td>215 lb x 1+</td>\n",
       "      <td>95 lb x 1+</td>\n",
       "    </tr>\n",
       "    <tr>\n",
       "      <th>10</th>\n",
       "      <td>Week 4 (Deload)</td>\n",
       "      <td>Set 1:</td>\n",
       "      <td>70 lb x 5+</td>\n",
       "      <td>65 lb x 5+</td>\n",
       "      <td>90 lb x 5+</td>\n",
       "      <td>40 lb x 5+</td>\n",
       "    </tr>\n",
       "    <tr>\n",
       "      <th>11</th>\n",
       "      <td>Week 4 (Deload)</td>\n",
       "      <td>Set 2:</td>\n",
       "      <td>85 lb x 5+</td>\n",
       "      <td>80 lb x 5+</td>\n",
       "      <td>115 lb x 5+</td>\n",
       "      <td>50 lb x 5+</td>\n",
       "    </tr>\n",
       "    <tr>\n",
       "      <th>12</th>\n",
       "      <td>Week 4 (Deload)</td>\n",
       "      <td>Set 3:</td>\n",
       "      <td>100 lb x 5+</td>\n",
       "      <td>95 lb x 5+</td>\n",
       "      <td>135 lb x 5+</td>\n",
       "      <td>60 lb x 5+</td>\n",
       "    </tr>\n",
       "  </tbody>\n",
       "</table>\n",
       "</div>"
      ],
      "text/plain": [
       "              Week:    Set:        Squat        Bench     Deadlift         OHP\n",
       "1            Week 1  Set 1:   110 lb x 5   105 lb x 5   150 lb x 5   65 lb x 5\n",
       "2            Week 1  Set 2:   125 lb x 5   120 lb x 5   170 lb x 5   75 lb x 5\n",
       "3            Week 1  Set 3:  145 lb x 5+  135 lb x 5+  195 lb x 5+  85 lb x 5+\n",
       "4            Week 2  Set 1:   120 lb x 3   110 lb x 3   160 lb x 3   70 lb x 3\n",
       "5            Week 2  Set 2:   135 lb x 3   125 lb x 3   180 lb x 3   80 lb x 3\n",
       "6            Week 2  Set 3:  150 lb x 3+  140 lb x 3+  205 lb x 3+  90 lb x 3+\n",
       "7            Week 3  Set 1:   125 lb x 5   120 lb x 5   170 lb x 5   75 lb x 5\n",
       "8            Week 3  Set 2:   145 lb x 3   135 lb x 3   195 lb x 3   85 lb x 3\n",
       "9            Week 3  Set 3:  160 lb x 1+  150 lb x 1+  215 lb x 1+  95 lb x 1+\n",
       "10  Week 4 (Deload)  Set 1:   70 lb x 5+   65 lb x 5+   90 lb x 5+  40 lb x 5+\n",
       "11  Week 4 (Deload)  Set 2:   85 lb x 5+   80 lb x 5+  115 lb x 5+  50 lb x 5+\n",
       "12  Week 4 (Deload)  Set 3:  100 lb x 5+   95 lb x 5+  135 lb x 5+  60 lb x 5+"
      ]
     },
     "execution_count": 10,
     "metadata": {},
     "output_type": "execute_result"
    }
   ],
   "source": [
    "main"
   ]
  },
  {
   "cell_type": "markdown",
   "metadata": {},
   "source": [
    "### What Week is it again?"
   ]
  },
  {
   "cell_type": "code",
   "execution_count": 11,
   "metadata": {
    "collapsed": true
   },
   "outputs": [],
   "source": [
    "import datetime as dt"
   ]
  },
  {
   "cell_type": "code",
   "execution_count": 12,
   "metadata": {
    "collapsed": false
   },
   "outputs": [],
   "source": [
    "dates = andmatt.loc[5:19, 8:15]\n",
    "names = dates.iloc[0, 0:6].tolist() + ['End', 'Tag']\n",
    "dates.columns = names\n",
    "dates = dates.reset_index(drop=True).iloc[1:]"
   ]
  },
  {
   "cell_type": "code",
   "execution_count": 13,
   "metadata": {
    "collapsed": true
   },
   "outputs": [],
   "source": [
    "dcheck = dates[dates.Tag=='1'][['Start', 'End']]\n",
    "dcheck = dcheck.apply(pd.to_datetime, axis=1)"
   ]
  },
  {
   "cell_type": "code",
   "execution_count": 14,
   "metadata": {
    "collapsed": true
   },
   "outputs": [],
   "source": [
    "#Python 3\n",
    "\n",
    "def week_finder():\n",
    "    for x in [1,2,3,4]:\n",
    "        today = dt.datetime.today()\n",
    "        start = dcheck['Start'] + dt.timedelta(weeks = x-1)\n",
    "        end = dcheck['Start'] + dt.timedelta(weeks = x)\n",
    "        if ((today >= start) & (today <= end)).any():\n",
    "            return(str(x))\n",
    "        if (today>dcheck['Start'] + dt.timedelta(weeks = 4)).any():\n",
    "            raise ValueError('Date is out of Range!')"
   ]
  },
  {
   "cell_type": "code",
   "execution_count": null,
   "metadata": {
    "collapsed": true
   },
   "outputs": [],
   "source": [
    "# #Python 2\n",
    "\n",
    "# def week_finder():\n",
    "#     for x in [1,2,3,4]:\n",
    "#         today = dt.datetime.today()\n",
    "#         start = dcheck['Start'][1] + dt.timedelta(weeks = x-1)\n",
    "#         end = dcheck['Start'][1] + dt.timedelta(weeks = x)\n",
    "#         if (today >= start) & (today <= end):\n",
    "#             return(str(x))"
   ]
  },
  {
   "cell_type": "code",
   "execution_count": 15,
   "metadata": {
    "collapsed": true
   },
   "outputs": [],
   "source": [
    "week = week_finder()"
   ]
  },
  {
   "cell_type": "code",
   "execution_count": 16,
   "metadata": {
    "collapsed": false,
    "scrolled": false
   },
   "outputs": [
    {
     "data": {
      "text/plain": [
       "'1'"
      ]
     },
     "execution_count": 16,
     "metadata": {},
     "output_type": "execute_result"
    }
   ],
   "source": [
    "week"
   ]
  },
  {
   "cell_type": "markdown",
   "metadata": {},
   "source": [
    "### Generate This Week's Workout"
   ]
  },
  {
   "cell_type": "code",
   "execution_count": 17,
   "metadata": {
    "collapsed": false
   },
   "outputs": [
    {
     "data": {
      "text/html": [
       "<div>\n",
       "<table border=\"1\" class=\"dataframe\">\n",
       "  <thead>\n",
       "    <tr style=\"text-align: right;\">\n",
       "      <th></th>\n",
       "      <th>Set:</th>\n",
       "      <th>Squat</th>\n",
       "      <th>Bench</th>\n",
       "      <th>Deadlift</th>\n",
       "      <th>OHP</th>\n",
       "    </tr>\n",
       "  </thead>\n",
       "  <tbody>\n",
       "    <tr>\n",
       "      <th>1</th>\n",
       "      <td>Set 1:</td>\n",
       "      <td>110 lb x 5</td>\n",
       "      <td>105 lb x 5</td>\n",
       "      <td>150 lb x 5</td>\n",
       "      <td>65 lb x 5</td>\n",
       "    </tr>\n",
       "    <tr>\n",
       "      <th>2</th>\n",
       "      <td>Set 2:</td>\n",
       "      <td>125 lb x 5</td>\n",
       "      <td>120 lb x 5</td>\n",
       "      <td>170 lb x 5</td>\n",
       "      <td>75 lb x 5</td>\n",
       "    </tr>\n",
       "    <tr>\n",
       "      <th>3</th>\n",
       "      <td>Set 3:</td>\n",
       "      <td>145 lb x 5+</td>\n",
       "      <td>135 lb x 5+</td>\n",
       "      <td>195 lb x 5+</td>\n",
       "      <td>85 lb x 5+</td>\n",
       "    </tr>\n",
       "  </tbody>\n",
       "</table>\n",
       "</div>"
      ],
      "text/plain": [
       "     Set:        Squat        Bench     Deadlift         OHP\n",
       "1  Set 1:   110 lb x 5   105 lb x 5   150 lb x 5   65 lb x 5\n",
       "2  Set 2:   125 lb x 5   120 lb x 5   170 lb x 5   75 lb x 5\n",
       "3  Set 3:  145 lb x 5+  135 lb x 5+  195 lb x 5+  85 lb x 5+"
      ]
     },
     "execution_count": 17,
     "metadata": {},
     "output_type": "execute_result"
    }
   ],
   "source": [
    "main_f = main[main['Week:'].str.contains(week)]\n",
    "main_f = main_f.drop('Week:', 1)\n",
    "main_f"
   ]
  },
  {
   "cell_type": "markdown",
   "metadata": {},
   "source": [
    "### Generate Accessory Workout DF"
   ]
  },
  {
   "cell_type": "code",
   "execution_count": 18,
   "metadata": {
    "collapsed": true
   },
   "outputs": [],
   "source": [
    "accessory = andmatt.loc[21:26, 3:6]\n",
    "accessory.columns = main.columns[2:6]"
   ]
  },
  {
   "cell_type": "code",
   "execution_count": 19,
   "metadata": {
    "collapsed": true
   },
   "outputs": [],
   "source": [
    "accessory.iloc[1:].reset_index(drop = True)\n",
    "accessory.columns.name = None"
   ]
  },
  {
   "cell_type": "code",
   "execution_count": 20,
   "metadata": {
    "collapsed": false
   },
   "outputs": [
    {
     "data": {
      "text/html": [
       "<div>\n",
       "<table border=\"1\" class=\"dataframe\">\n",
       "  <thead>\n",
       "    <tr style=\"text-align: right;\">\n",
       "      <th></th>\n",
       "      <th>Squat</th>\n",
       "      <th>Bench</th>\n",
       "      <th>Deadlift</th>\n",
       "      <th>OHP</th>\n",
       "    </tr>\n",
       "  </thead>\n",
       "  <tbody>\n",
       "    <tr>\n",
       "      <th>21</th>\n",
       "      <td>Hack Squat</td>\n",
       "      <td>Dips</td>\n",
       "      <td>Rows</td>\n",
       "      <td>Sitting D.Bell Press</td>\n",
       "    </tr>\n",
       "    <tr>\n",
       "      <th>22</th>\n",
       "      <td>225lb 4x10</td>\n",
       "      <td>4x10</td>\n",
       "      <td>90lb 4x10</td>\n",
       "      <td>45lb 4x10</td>\n",
       "    </tr>\n",
       "    <tr>\n",
       "      <th>23</th>\n",
       "      <td>Romanian DL</td>\n",
       "      <td>Incline D.Bell Press</td>\n",
       "      <td>Lat Pull Down</td>\n",
       "      <td>Rear Delt Flys</td>\n",
       "    </tr>\n",
       "    <tr>\n",
       "      <th>24</th>\n",
       "      <td>90lb 4x10</td>\n",
       "      <td>45lb 4x10</td>\n",
       "      <td>80lb 4x10</td>\n",
       "      <td>25lb 4x10</td>\n",
       "    </tr>\n",
       "    <tr>\n",
       "      <th>25</th>\n",
       "      <td>Calf Raise</td>\n",
       "      <td>Cable Tricep Ext.</td>\n",
       "      <td>Curls</td>\n",
       "      <td>Front / Side Raises</td>\n",
       "    </tr>\n",
       "    <tr>\n",
       "      <th>26</th>\n",
       "      <td>75lb 4x10</td>\n",
       "      <td>80lb 4x10</td>\n",
       "      <td>30lb 4x10</td>\n",
       "      <td>17.5lb 4x10</td>\n",
       "    </tr>\n",
       "  </tbody>\n",
       "</table>\n",
       "</div>"
      ],
      "text/plain": [
       "          Squat                 Bench       Deadlift                   OHP\n",
       "21   Hack Squat                  Dips           Rows  Sitting D.Bell Press\n",
       "22   225lb 4x10                  4x10      90lb 4x10             45lb 4x10\n",
       "23  Romanian DL  Incline D.Bell Press  Lat Pull Down        Rear Delt Flys\n",
       "24    90lb 4x10             45lb 4x10      80lb 4x10             25lb 4x10\n",
       "25   Calf Raise     Cable Tricep Ext.          Curls   Front / Side Raises\n",
       "26    75lb 4x10             80lb 4x10      30lb 4x10           17.5lb 4x10"
      ]
     },
     "execution_count": 20,
     "metadata": {},
     "output_type": "execute_result"
    }
   ],
   "source": [
    "accessory"
   ]
  },
  {
   "cell_type": "markdown",
   "metadata": {},
   "source": [
    "### Subset Main Workout for Correct Week"
   ]
  },
  {
   "cell_type": "code",
   "execution_count": 21,
   "metadata": {
    "collapsed": false
   },
   "outputs": [
    {
     "data": {
      "text/plain": [
       "'1'"
      ]
     },
     "execution_count": 21,
     "metadata": {},
     "output_type": "execute_result"
    }
   ],
   "source": [
    "week"
   ]
  },
  {
   "cell_type": "code",
   "execution_count": 22,
   "metadata": {
    "collapsed": false
   },
   "outputs": [
    {
     "data": {
      "text/html": [
       "<div>\n",
       "<table border=\"1\" class=\"dataframe\">\n",
       "  <thead>\n",
       "    <tr style=\"text-align: right;\">\n",
       "      <th></th>\n",
       "      <th>Start</th>\n",
       "      <th>End</th>\n",
       "    </tr>\n",
       "  </thead>\n",
       "  <tbody>\n",
       "    <tr>\n",
       "      <th>1</th>\n",
       "      <td>2017-05-28</td>\n",
       "      <td>2017-06-24</td>\n",
       "    </tr>\n",
       "  </tbody>\n",
       "</table>\n",
       "</div>"
      ],
      "text/plain": [
       "       Start        End\n",
       "1 2017-05-28 2017-06-24"
      ]
     },
     "execution_count": 22,
     "metadata": {},
     "output_type": "execute_result"
    }
   ],
   "source": [
    "week_d = dcheck.copy()\n",
    "wdiff = int(week)-1\n",
    "week_d['Start'] = week_d['Start'] + dt.timedelta(weeks = wdiff)\n",
    "week_d['End'] = week_d['End'] + dt.timedelta(weeks = wdiff)\n",
    "week_d"
   ]
  },
  {
   "cell_type": "code",
   "execution_count": 23,
   "metadata": {
    "collapsed": true
   },
   "outputs": [],
   "source": [
    "start = week_d['Start'][1].strftime('%m/%d/%Y')\n",
    "end = week_d['End'][1].strftime('%m/%d/%Y')"
   ]
  },
  {
   "cell_type": "markdown",
   "metadata": {
    "collapsed": true
   },
   "source": [
    "### HTML Compilation"
   ]
  },
  {
   "cell_type": "markdown",
   "metadata": {},
   "source": [
    "#### Generate HTML Tables with Styling"
   ]
  },
  {
   "cell_type": "code",
   "execution_count": 24,
   "metadata": {
    "collapsed": true
   },
   "outputs": [],
   "source": [
    "def recolor(val):\n",
    "    '''\n",
    "    adds css color elements to df\n",
    "    '''\n",
    "    return 'color: white ; background-color: lightskyblue'"
   ]
  },
  {
   "cell_type": "code",
   "execution_count": 25,
   "metadata": {
    "collapsed": true
   },
   "outputs": [],
   "source": [
    "a_html = (accessory.style\n",
    "        .set_properties(**{'text-align': 'center',\n",
    "                          'border':'1px solid',\n",
    "                          'border-collapse': 'collapse',\n",
    "                          'border-color': 'slategray'})\n",
    "        .applymap(recolor, subset = pd.IndexSlice[[21,23,25],]))\n",
    "a_html = a_html.render()"
   ]
  },
  {
   "cell_type": "code",
   "execution_count": 26,
   "metadata": {
    "collapsed": true
   },
   "outputs": [],
   "source": [
    "m_html = main_f.style.set_properties(**{'text-align': 'center',\n",
    "                                       'border':'1px solid',\n",
    "                                       'border-collapse': 'collapse',\n",
    "                                       'border-color': 'slategray'})\n",
    "m_html = m_html.render()"
   ]
  },
  {
   "cell_type": "markdown",
   "metadata": {},
   "source": [
    "#### Full HTML"
   ]
  },
  {
   "cell_type": "code",
   "execution_count": 27,
   "metadata": {
    "collapsed": true
   },
   "outputs": [],
   "source": [
    "html = '''\\\n",
    "<html>\n",
    "  <head> \n",
    "  <title> 5-3-1 Workout of the Week </title> \n",
    "  </head>\n",
    "  \n",
    "  <body>\n",
    "  <h2>5-3-1 Workout of the Week</h2>\n",
    "  \n",
    "    <p>PFA - the workout of the week. It is currently <b>Week {week}</b> <br>\n",
    "       <b>Week {week}</b> goes from {start} till {end}\n",
    "    </p>\n",
    "    \n",
    "    <h4>Main Workout:</h4>\n",
    "    {main_f}\n",
    "    <br>\n",
    "    <h4>Accessory Exercises:</h4>\n",
    "    {accessory}<br>\n",
    "    \n",
    "  </body>\n",
    "</html>\n",
    "'''.format(week = week, start = start, end = end,\n",
    "           main_f = m_html, accessory = a_html)"
   ]
  },
  {
   "cell_type": "markdown",
   "metadata": {},
   "source": [
    "### Export to Dropbox"
   ]
  },
  {
   "cell_type": "code",
   "execution_count": null,
   "metadata": {
    "collapsed": true
   },
   "outputs": [],
   "source": [
    "output = open('Dropbox/1. 531 Workout.html', 'w')"
   ]
  },
  {
   "cell_type": "code",
   "execution_count": null,
   "metadata": {
    "collapsed": true
   },
   "outputs": [],
   "source": [
    "output.write(html)\n",
    "output.close()"
   ]
  },
  {
   "cell_type": "code",
   "execution_count": null,
   "metadata": {
    "collapsed": true
   },
   "outputs": [],
   "source": []
  },
  {
   "cell_type": "code",
   "execution_count": null,
   "metadata": {
    "collapsed": true
   },
   "outputs": [],
   "source": []
  }
 ],
 "metadata": {
  "kernelspec": {
   "display_name": "Python 3",
   "language": "python",
   "name": "python3"
  },
  "language_info": {
   "codemirror_mode": {
    "name": "ipython",
    "version": 3
   },
   "file_extension": ".py",
   "mimetype": "text/x-python",
   "name": "python",
   "nbconvert_exporter": "python",
   "pygments_lexer": "ipython3",
   "version": "3.6.0"
  }
 },
 "nbformat": 4,
 "nbformat_minor": 2
}
