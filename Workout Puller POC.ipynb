{
 "cells": [
  {
   "cell_type": "markdown",
   "metadata": {},
   "source": [
    "### Imports"
   ]
  },
  {
   "cell_type": "code",
   "execution_count": 1,
   "metadata": {
    "collapsed": true
   },
   "outputs": [],
   "source": [
    "import pandas as pd\n",
    "import datetime as dt\n",
    "import gspread\n",
    "from oauth2client.service_account import ServiceAccountCredentials"
   ]
  },
  {
   "cell_type": "markdown",
   "metadata": {},
   "source": [
    "### Initialize Google Sheets API + Pull full sheet"
   ]
  },
  {
   "cell_type": "code",
   "execution_count": 2,
   "metadata": {
    "collapsed": true
   },
   "outputs": [],
   "source": [
    "scopes = ['https://spreadsheets.google.com/feeds', 'https://www.googleapis.com/auth/gmail.compose']\n",
    "creds=ServiceAccountCredentials.from_json_keyfile_name('client_secret.json', scopes)\n",
    "client = gspread.authorize(creds)"
   ]
  },
  {
   "cell_type": "code",
   "execution_count": 3,
   "metadata": {
    "collapsed": true
   },
   "outputs": [],
   "source": [
    "sheet = client.open('5-3-1 Workout Weights')"
   ]
  },
  {
   "cell_type": "code",
   "execution_count": 4,
   "metadata": {
    "collapsed": true
   },
   "outputs": [],
   "source": [
    "matt = sheet.worksheet('Matt')"
   ]
  },
  {
   "cell_type": "code",
   "execution_count": 5,
   "metadata": {
    "collapsed": false,
    "scrolled": false
   },
   "outputs": [
    {
     "data": {
      "text/html": [
       "<div>\n",
       "<table border=\"1\" class=\"dataframe\">\n",
       "  <thead>\n",
       "    <tr style=\"text-align: right;\">\n",
       "      <th></th>\n",
       "      <th>0</th>\n",
       "      <th>1</th>\n",
       "      <th>2</th>\n",
       "      <th>3</th>\n",
       "      <th>4</th>\n",
       "      <th>5</th>\n",
       "      <th>6</th>\n",
       "      <th>7</th>\n",
       "      <th>8</th>\n",
       "      <th>9</th>\n",
       "      <th>10</th>\n",
       "      <th>11</th>\n",
       "      <th>12</th>\n",
       "      <th>13</th>\n",
       "      <th>14</th>\n",
       "      <th>15</th>\n",
       "    </tr>\n",
       "  </thead>\n",
       "  <tbody>\n",
       "    <tr>\n",
       "      <th>0</th>\n",
       "      <td></td>\n",
       "      <td></td>\n",
       "      <td></td>\n",
       "      <td></td>\n",
       "      <td></td>\n",
       "      <td></td>\n",
       "      <td></td>\n",
       "      <td></td>\n",
       "      <td></td>\n",
       "      <td></td>\n",
       "      <td></td>\n",
       "      <td></td>\n",
       "      <td></td>\n",
       "      <td></td>\n",
       "      <td></td>\n",
       "      <td></td>\n",
       "    </tr>\n",
       "    <tr>\n",
       "      <th>1</th>\n",
       "      <td></td>\n",
       "      <td>Today:</td>\n",
       "      <td>6/4/2017</td>\n",
       "      <td>6/4/2017</td>\n",
       "      <td></td>\n",
       "      <td></td>\n",
       "      <td></td>\n",
       "      <td></td>\n",
       "      <td></td>\n",
       "      <td></td>\n",
       "      <td></td>\n",
       "      <td></td>\n",
       "      <td></td>\n",
       "      <td></td>\n",
       "      <td></td>\n",
       "      <td></td>\n",
       "    </tr>\n",
       "    <tr>\n",
       "      <th>2</th>\n",
       "      <td></td>\n",
       "      <td>Month:</td>\n",
       "      <td>1</td>\n",
       "      <td></td>\n",
       "      <td></td>\n",
       "      <td></td>\n",
       "      <td></td>\n",
       "      <td></td>\n",
       "      <td></td>\n",
       "      <td></td>\n",
       "      <td></td>\n",
       "      <td></td>\n",
       "      <td></td>\n",
       "      <td></td>\n",
       "      <td></td>\n",
       "      <td></td>\n",
       "    </tr>\n",
       "    <tr>\n",
       "      <th>3</th>\n",
       "      <td></td>\n",
       "      <td></td>\n",
       "      <td></td>\n",
       "      <td></td>\n",
       "      <td></td>\n",
       "      <td></td>\n",
       "      <td></td>\n",
       "      <td></td>\n",
       "      <td></td>\n",
       "      <td></td>\n",
       "      <td></td>\n",
       "      <td></td>\n",
       "      <td></td>\n",
       "      <td></td>\n",
       "      <td></td>\n",
       "      <td></td>\n",
       "    </tr>\n",
       "    <tr>\n",
       "      <th>4</th>\n",
       "      <td></td>\n",
       "      <td></td>\n",
       "      <td></td>\n",
       "      <td>Core Exercises</td>\n",
       "      <td></td>\n",
       "      <td></td>\n",
       "      <td></td>\n",
       "      <td></td>\n",
       "      <td>1 Rep Max Progression</td>\n",
       "      <td></td>\n",
       "      <td></td>\n",
       "      <td></td>\n",
       "      <td></td>\n",
       "      <td></td>\n",
       "      <td></td>\n",
       "      <td></td>\n",
       "    </tr>\n",
       "    <tr>\n",
       "      <th>5</th>\n",
       "      <td></td>\n",
       "      <td></td>\n",
       "      <td></td>\n",
       "      <td>165</td>\n",
       "      <td>155</td>\n",
       "      <td>225</td>\n",
       "      <td>100</td>\n",
       "      <td></td>\n",
       "      <td>Month #</td>\n",
       "      <td>Start</td>\n",
       "      <td>Squat</td>\n",
       "      <td>Bench</td>\n",
       "      <td>Deadlift</td>\n",
       "      <td>OHP</td>\n",
       "      <td></td>\n",
       "      <td></td>\n",
       "    </tr>\n",
       "    <tr>\n",
       "      <th>6</th>\n",
       "      <td></td>\n",
       "      <td>Week:</td>\n",
       "      <td>Set:</td>\n",
       "      <td>Squat</td>\n",
       "      <td>Bench</td>\n",
       "      <td>Deadlift</td>\n",
       "      <td>OHP</td>\n",
       "      <td></td>\n",
       "      <td>1</td>\n",
       "      <td>5/28/17</td>\n",
       "      <td>165</td>\n",
       "      <td>155</td>\n",
       "      <td>225</td>\n",
       "      <td>100</td>\n",
       "      <td>6/24/17</td>\n",
       "      <td>1</td>\n",
       "    </tr>\n",
       "    <tr>\n",
       "      <th>7</th>\n",
       "      <td></td>\n",
       "      <td>Week 1</td>\n",
       "      <td>Set 1:</td>\n",
       "      <td>110 lb x 5</td>\n",
       "      <td>105 lb x 5</td>\n",
       "      <td>150 lb x 5</td>\n",
       "      <td>65 lb x 5</td>\n",
       "      <td></td>\n",
       "      <td>2</td>\n",
       "      <td>6/25/17</td>\n",
       "      <td>175</td>\n",
       "      <td>165</td>\n",
       "      <td>235</td>\n",
       "      <td>110</td>\n",
       "      <td>7/22/17</td>\n",
       "      <td>0</td>\n",
       "    </tr>\n",
       "    <tr>\n",
       "      <th>8</th>\n",
       "      <td></td>\n",
       "      <td></td>\n",
       "      <td>Set 2:</td>\n",
       "      <td>125 lb x 5</td>\n",
       "      <td>120 lb x 5</td>\n",
       "      <td>170 lb x 5</td>\n",
       "      <td>75 lb x 5</td>\n",
       "      <td></td>\n",
       "      <td>3</td>\n",
       "      <td>7/23/17</td>\n",
       "      <td>185</td>\n",
       "      <td>175</td>\n",
       "      <td>245</td>\n",
       "      <td>120</td>\n",
       "      <td>8/19/17</td>\n",
       "      <td>0</td>\n",
       "    </tr>\n",
       "    <tr>\n",
       "      <th>9</th>\n",
       "      <td></td>\n",
       "      <td></td>\n",
       "      <td>Set 3:</td>\n",
       "      <td>145 lb x 5+</td>\n",
       "      <td>135 lb x 5+</td>\n",
       "      <td>195 lb x 5+</td>\n",
       "      <td>85 lb x 5+</td>\n",
       "      <td></td>\n",
       "      <td>4</td>\n",
       "      <td>8/20/17</td>\n",
       "      <td>195</td>\n",
       "      <td>185</td>\n",
       "      <td>255</td>\n",
       "      <td>130</td>\n",
       "      <td>9/16/17</td>\n",
       "      <td>0</td>\n",
       "    </tr>\n",
       "  </tbody>\n",
       "</table>\n",
       "</div>"
      ],
      "text/plain": [
       "  0       1         2               3            4            5           6   \\\n",
       "0                                                                              \n",
       "1     Today:  6/4/2017        6/4/2017                                         \n",
       "2     Month:         1                                                         \n",
       "3                                                                              \n",
       "4                       Core Exercises                                         \n",
       "5                                  165          155          225         100   \n",
       "6      Week:      Set:           Squat        Bench     Deadlift         OHP   \n",
       "7     Week 1    Set 1:      110 lb x 5   105 lb x 5   150 lb x 5   65 lb x 5   \n",
       "8               Set 2:      125 lb x 5   120 lb x 5   170 lb x 5   75 lb x 5   \n",
       "9               Set 3:     145 lb x 5+  135 lb x 5+  195 lb x 5+  85 lb x 5+   \n",
       "\n",
       "  7                      8        9      10     11        12   13       14 15  \n",
       "0                                                                              \n",
       "1                                                                              \n",
       "2                                                                              \n",
       "3                                                                              \n",
       "4     1 Rep Max Progression                                                    \n",
       "5                   Month #    Start  Squat  Bench  Deadlift  OHP              \n",
       "6                         1  5/28/17    165    155       225  100  6/24/17  1  \n",
       "7                         2  6/25/17    175    165       235  110  7/22/17  0  \n",
       "8                         3  7/23/17    185    175       245  120  8/19/17  0  \n",
       "9                         4  8/20/17    195    185       255  130  9/16/17  0  "
      ]
     },
     "execution_count": 5,
     "metadata": {},
     "output_type": "execute_result"
    }
   ],
   "source": [
    "andmatt = pd.DataFrame(matt.get_all_values())\n",
    "andmatt.head(10)"
   ]
  },
  {
   "cell_type": "markdown",
   "metadata": {},
   "source": [
    "### Generate Main Workout DF"
   ]
  },
  {
   "cell_type": "code",
   "execution_count": 6,
   "metadata": {
    "collapsed": true
   },
   "outputs": [],
   "source": [
    "main = andmatt.loc[6:18, 1:6]\n",
    "main.columns = main.iloc[0]\n",
    "main = main.reset_index(drop = True).iloc[1:]\n",
    "main.columns.name = None"
   ]
  },
  {
   "cell_type": "code",
   "execution_count": 7,
   "metadata": {
    "collapsed": true
   },
   "outputs": [],
   "source": [
    "main[main==\"\"] = None\n",
    "main.fillna(method='ffill', inplace = True)"
   ]
  },
  {
   "cell_type": "code",
   "execution_count": 8,
   "metadata": {
    "collapsed": false
   },
   "outputs": [
    {
     "data": {
      "text/html": [
       "<div>\n",
       "<table border=\"1\" class=\"dataframe\">\n",
       "  <thead>\n",
       "    <tr style=\"text-align: right;\">\n",
       "      <th></th>\n",
       "      <th>Week:</th>\n",
       "      <th>Set:</th>\n",
       "      <th>Squat</th>\n",
       "      <th>Bench</th>\n",
       "      <th>Deadlift</th>\n",
       "      <th>OHP</th>\n",
       "    </tr>\n",
       "  </thead>\n",
       "  <tbody>\n",
       "    <tr>\n",
       "      <th>1</th>\n",
       "      <td>Week 1</td>\n",
       "      <td>Set 1:</td>\n",
       "      <td>110 lb x 5</td>\n",
       "      <td>105 lb x 5</td>\n",
       "      <td>150 lb x 5</td>\n",
       "      <td>65 lb x 5</td>\n",
       "    </tr>\n",
       "    <tr>\n",
       "      <th>2</th>\n",
       "      <td>Week 1</td>\n",
       "      <td>Set 2:</td>\n",
       "      <td>125 lb x 5</td>\n",
       "      <td>120 lb x 5</td>\n",
       "      <td>170 lb x 5</td>\n",
       "      <td>75 lb x 5</td>\n",
       "    </tr>\n",
       "    <tr>\n",
       "      <th>3</th>\n",
       "      <td>Week 1</td>\n",
       "      <td>Set 3:</td>\n",
       "      <td>145 lb x 5+</td>\n",
       "      <td>135 lb x 5+</td>\n",
       "      <td>195 lb x 5+</td>\n",
       "      <td>85 lb x 5+</td>\n",
       "    </tr>\n",
       "    <tr>\n",
       "      <th>4</th>\n",
       "      <td>Week 2</td>\n",
       "      <td>Set 1:</td>\n",
       "      <td>120 lb x 3</td>\n",
       "      <td>110 lb x 3</td>\n",
       "      <td>160 lb x 3</td>\n",
       "      <td>70 lb x 3</td>\n",
       "    </tr>\n",
       "    <tr>\n",
       "      <th>5</th>\n",
       "      <td>Week 2</td>\n",
       "      <td>Set 2:</td>\n",
       "      <td>135 lb x 3</td>\n",
       "      <td>125 lb x 3</td>\n",
       "      <td>180 lb x 3</td>\n",
       "      <td>80 lb x 3</td>\n",
       "    </tr>\n",
       "    <tr>\n",
       "      <th>6</th>\n",
       "      <td>Week 2</td>\n",
       "      <td>Set 3:</td>\n",
       "      <td>150 lb x 3+</td>\n",
       "      <td>140 lb x 3+</td>\n",
       "      <td>205 lb x 3+</td>\n",
       "      <td>90 lb x 3+</td>\n",
       "    </tr>\n",
       "    <tr>\n",
       "      <th>7</th>\n",
       "      <td>Week 3</td>\n",
       "      <td>Set 1:</td>\n",
       "      <td>125 lb x 5</td>\n",
       "      <td>120 lb x 5</td>\n",
       "      <td>170 lb x 5</td>\n",
       "      <td>75 lb x 5</td>\n",
       "    </tr>\n",
       "    <tr>\n",
       "      <th>8</th>\n",
       "      <td>Week 3</td>\n",
       "      <td>Set 2:</td>\n",
       "      <td>145 lb x 3</td>\n",
       "      <td>135 lb x 3</td>\n",
       "      <td>195 lb x 3</td>\n",
       "      <td>85 lb x 3</td>\n",
       "    </tr>\n",
       "    <tr>\n",
       "      <th>9</th>\n",
       "      <td>Week 3</td>\n",
       "      <td>Set 3:</td>\n",
       "      <td>160 lb x 1+</td>\n",
       "      <td>150 lb x 1+</td>\n",
       "      <td>215 lb x 1+</td>\n",
       "      <td>95 lb x 1+</td>\n",
       "    </tr>\n",
       "    <tr>\n",
       "      <th>10</th>\n",
       "      <td>Week 4 (Deload)</td>\n",
       "      <td>Set 1:</td>\n",
       "      <td>70 lb x 5+</td>\n",
       "      <td>65 lb x 5+</td>\n",
       "      <td>90 lb x 5+</td>\n",
       "      <td>40 lb x 5+</td>\n",
       "    </tr>\n",
       "    <tr>\n",
       "      <th>11</th>\n",
       "      <td>Week 4 (Deload)</td>\n",
       "      <td>Set 2:</td>\n",
       "      <td>85 lb x 5+</td>\n",
       "      <td>80 lb x 5+</td>\n",
       "      <td>115 lb x 5+</td>\n",
       "      <td>50 lb x 5+</td>\n",
       "    </tr>\n",
       "    <tr>\n",
       "      <th>12</th>\n",
       "      <td>Week 4 (Deload)</td>\n",
       "      <td>Set 3:</td>\n",
       "      <td>100 lb x 5+</td>\n",
       "      <td>95 lb x 5+</td>\n",
       "      <td>135 lb x 5+</td>\n",
       "      <td>60 lb x 5+</td>\n",
       "    </tr>\n",
       "  </tbody>\n",
       "</table>\n",
       "</div>"
      ],
      "text/plain": [
       "              Week:    Set:        Squat        Bench     Deadlift         OHP\n",
       "1            Week 1  Set 1:   110 lb x 5   105 lb x 5   150 lb x 5   65 lb x 5\n",
       "2            Week 1  Set 2:   125 lb x 5   120 lb x 5   170 lb x 5   75 lb x 5\n",
       "3            Week 1  Set 3:  145 lb x 5+  135 lb x 5+  195 lb x 5+  85 lb x 5+\n",
       "4            Week 2  Set 1:   120 lb x 3   110 lb x 3   160 lb x 3   70 lb x 3\n",
       "5            Week 2  Set 2:   135 lb x 3   125 lb x 3   180 lb x 3   80 lb x 3\n",
       "6            Week 2  Set 3:  150 lb x 3+  140 lb x 3+  205 lb x 3+  90 lb x 3+\n",
       "7            Week 3  Set 1:   125 lb x 5   120 lb x 5   170 lb x 5   75 lb x 5\n",
       "8            Week 3  Set 2:   145 lb x 3   135 lb x 3   195 lb x 3   85 lb x 3\n",
       "9            Week 3  Set 3:  160 lb x 1+  150 lb x 1+  215 lb x 1+  95 lb x 1+\n",
       "10  Week 4 (Deload)  Set 1:   70 lb x 5+   65 lb x 5+   90 lb x 5+  40 lb x 5+\n",
       "11  Week 4 (Deload)  Set 2:   85 lb x 5+   80 lb x 5+  115 lb x 5+  50 lb x 5+\n",
       "12  Week 4 (Deload)  Set 3:  100 lb x 5+   95 lb x 5+  135 lb x 5+  60 lb x 5+"
      ]
     },
     "execution_count": 8,
     "metadata": {},
     "output_type": "execute_result"
    }
   ],
   "source": [
    "main"
   ]
  },
  {
   "cell_type": "markdown",
   "metadata": {},
   "source": [
    "### What Week is it again?"
   ]
  },
  {
   "cell_type": "code",
   "execution_count": 9,
   "metadata": {
    "collapsed": true
   },
   "outputs": [],
   "source": [
    "dates = andmatt.loc[5:19, 8:15]"
   ]
  },
  {
   "cell_type": "code",
   "execution_count": 10,
   "metadata": {
    "collapsed": false
   },
   "outputs": [
    {
     "data": {
      "text/html": [
       "<div>\n",
       "<table border=\"1\" class=\"dataframe\">\n",
       "  <thead>\n",
       "    <tr style=\"text-align: right;\">\n",
       "      <th></th>\n",
       "      <th>8</th>\n",
       "      <th>9</th>\n",
       "      <th>10</th>\n",
       "      <th>11</th>\n",
       "      <th>12</th>\n",
       "      <th>13</th>\n",
       "      <th>14</th>\n",
       "      <th>15</th>\n",
       "    </tr>\n",
       "  </thead>\n",
       "  <tbody>\n",
       "    <tr>\n",
       "      <th>5</th>\n",
       "      <td>Month #</td>\n",
       "      <td>Start</td>\n",
       "      <td>Squat</td>\n",
       "      <td>Bench</td>\n",
       "      <td>Deadlift</td>\n",
       "      <td>OHP</td>\n",
       "      <td></td>\n",
       "      <td></td>\n",
       "    </tr>\n",
       "    <tr>\n",
       "      <th>6</th>\n",
       "      <td>1</td>\n",
       "      <td>5/28/17</td>\n",
       "      <td>165</td>\n",
       "      <td>155</td>\n",
       "      <td>225</td>\n",
       "      <td>100</td>\n",
       "      <td>6/24/17</td>\n",
       "      <td>1</td>\n",
       "    </tr>\n",
       "    <tr>\n",
       "      <th>7</th>\n",
       "      <td>2</td>\n",
       "      <td>6/25/17</td>\n",
       "      <td>175</td>\n",
       "      <td>165</td>\n",
       "      <td>235</td>\n",
       "      <td>110</td>\n",
       "      <td>7/22/17</td>\n",
       "      <td>0</td>\n",
       "    </tr>\n",
       "  </tbody>\n",
       "</table>\n",
       "</div>"
      ],
      "text/plain": [
       "        8        9      10     11        12   13       14 15\n",
       "5  Month #    Start  Squat  Bench  Deadlift  OHP            \n",
       "6        1  5/28/17    165    155       225  100  6/24/17  1\n",
       "7        2  6/25/17    175    165       235  110  7/22/17  0"
      ]
     },
     "execution_count": 10,
     "metadata": {},
     "output_type": "execute_result"
    }
   ],
   "source": [
    "dates.head(3)"
   ]
  },
  {
   "cell_type": "code",
   "execution_count": 11,
   "metadata": {
    "collapsed": false
   },
   "outputs": [],
   "source": [
    "dates = andmatt.loc[5:19, 8:15]\n",
    "names = dates.iloc[0, 0:6].tolist() + ['End', 'Tag']\n",
    "dates.columns = names\n",
    "dates = dates.reset_index(drop=True).iloc[1:]"
   ]
  },
  {
   "cell_type": "code",
   "execution_count": 12,
   "metadata": {
    "collapsed": false
   },
   "outputs": [
    {
     "data": {
      "text/html": [
       "<div>\n",
       "<table border=\"1\" class=\"dataframe\">\n",
       "  <thead>\n",
       "    <tr style=\"text-align: right;\">\n",
       "      <th></th>\n",
       "      <th>Month #</th>\n",
       "      <th>Start</th>\n",
       "      <th>Squat</th>\n",
       "      <th>Bench</th>\n",
       "      <th>Deadlift</th>\n",
       "      <th>OHP</th>\n",
       "      <th>End</th>\n",
       "      <th>Tag</th>\n",
       "    </tr>\n",
       "  </thead>\n",
       "  <tbody>\n",
       "    <tr>\n",
       "      <th>1</th>\n",
       "      <td>1</td>\n",
       "      <td>5/28/17</td>\n",
       "      <td>165</td>\n",
       "      <td>155</td>\n",
       "      <td>225</td>\n",
       "      <td>100</td>\n",
       "      <td>6/24/17</td>\n",
       "      <td>1</td>\n",
       "    </tr>\n",
       "    <tr>\n",
       "      <th>2</th>\n",
       "      <td>2</td>\n",
       "      <td>6/25/17</td>\n",
       "      <td>175</td>\n",
       "      <td>165</td>\n",
       "      <td>235</td>\n",
       "      <td>110</td>\n",
       "      <td>7/22/17</td>\n",
       "      <td>0</td>\n",
       "    </tr>\n",
       "    <tr>\n",
       "      <th>3</th>\n",
       "      <td>3</td>\n",
       "      <td>7/23/17</td>\n",
       "      <td>185</td>\n",
       "      <td>175</td>\n",
       "      <td>245</td>\n",
       "      <td>120</td>\n",
       "      <td>8/19/17</td>\n",
       "      <td>0</td>\n",
       "    </tr>\n",
       "  </tbody>\n",
       "</table>\n",
       "</div>"
      ],
      "text/plain": [
       "  Month #    Start Squat Bench Deadlift  OHP      End Tag\n",
       "1       1  5/28/17   165   155      225  100  6/24/17   1\n",
       "2       2  6/25/17   175   165      235  110  7/22/17   0\n",
       "3       3  7/23/17   185   175      245  120  8/19/17   0"
      ]
     },
     "execution_count": 12,
     "metadata": {},
     "output_type": "execute_result"
    }
   ],
   "source": [
    "dates.head(3)"
   ]
  },
  {
   "cell_type": "code",
   "execution_count": 13,
   "metadata": {
    "collapsed": false
   },
   "outputs": [],
   "source": [
    "dcheck = dates[dates.Tag=='1'][['Start', 'End']]\n",
    "dcheck = dcheck.apply(pd.to_datetime, axis=1)"
   ]
  },
  {
   "cell_type": "code",
   "execution_count": 14,
   "metadata": {
    "collapsed": true
   },
   "outputs": [],
   "source": [
    "#Python 3\n",
    "\n",
    "def week_finder():\n",
    "    for x in [1,2,3,4]:\n",
    "        today = dt.datetime.today()\n",
    "        start = dcheck['Start'] + dt.timedelta(weeks = x-1)\n",
    "        end = dcheck['Start'] + dt.timedelta(weeks = x)\n",
    "        if ((today >= start) & (today <= end)).any():\n",
    "            return(str(x))\n",
    "        if (today>dcheck['Start'] + dt.timedelta(weeks = 4)).any():\n",
    "            raise ValueError('Date is out of Range!')"
   ]
  },
  {
   "cell_type": "code",
   "execution_count": 15,
   "metadata": {
    "collapsed": true
   },
   "outputs": [],
   "source": [
    "# #Python 2\n",
    "\n",
    "# def week_finder():\n",
    "#     for x in [1,2,3,4]:\n",
    "#         today = dt.datetime.today()\n",
    "#         start = dcheck['Start'][1] + dt.timedelta(weeks = x-1)\n",
    "#         end = dcheck['Start'][1] + dt.timedelta(weeks = x)\n",
    "#         if (today >= start) & (today <= end):\n",
    "#             return(str(x))"
   ]
  },
  {
   "cell_type": "code",
   "execution_count": 16,
   "metadata": {
    "collapsed": false
   },
   "outputs": [],
   "source": [
    "week = week_finder()"
   ]
  },
  {
   "cell_type": "code",
   "execution_count": 17,
   "metadata": {
    "collapsed": false,
    "scrolled": false
   },
   "outputs": [
    {
     "data": {
      "text/plain": [
       "'2'"
      ]
     },
     "execution_count": 17,
     "metadata": {},
     "output_type": "execute_result"
    }
   ],
   "source": [
    "week"
   ]
  },
  {
   "cell_type": "markdown",
   "metadata": {},
   "source": [
    "### Generate This Week's Workout"
   ]
  },
  {
   "cell_type": "code",
   "execution_count": 18,
   "metadata": {
    "collapsed": false
   },
   "outputs": [
    {
     "data": {
      "text/html": [
       "<div>\n",
       "<table border=\"1\" class=\"dataframe\">\n",
       "  <thead>\n",
       "    <tr style=\"text-align: right;\">\n",
       "      <th></th>\n",
       "      <th>Set:</th>\n",
       "      <th>Squat</th>\n",
       "      <th>Bench</th>\n",
       "      <th>Deadlift</th>\n",
       "      <th>OHP</th>\n",
       "    </tr>\n",
       "  </thead>\n",
       "  <tbody>\n",
       "    <tr>\n",
       "      <th>4</th>\n",
       "      <td>Set 1:</td>\n",
       "      <td>120 lb x 3</td>\n",
       "      <td>110 lb x 3</td>\n",
       "      <td>160 lb x 3</td>\n",
       "      <td>70 lb x 3</td>\n",
       "    </tr>\n",
       "    <tr>\n",
       "      <th>5</th>\n",
       "      <td>Set 2:</td>\n",
       "      <td>135 lb x 3</td>\n",
       "      <td>125 lb x 3</td>\n",
       "      <td>180 lb x 3</td>\n",
       "      <td>80 lb x 3</td>\n",
       "    </tr>\n",
       "    <tr>\n",
       "      <th>6</th>\n",
       "      <td>Set 3:</td>\n",
       "      <td>150 lb x 3+</td>\n",
       "      <td>140 lb x 3+</td>\n",
       "      <td>205 lb x 3+</td>\n",
       "      <td>90 lb x 3+</td>\n",
       "    </tr>\n",
       "  </tbody>\n",
       "</table>\n",
       "</div>"
      ],
      "text/plain": [
       "     Set:        Squat        Bench     Deadlift         OHP\n",
       "4  Set 1:   120 lb x 3   110 lb x 3   160 lb x 3   70 lb x 3\n",
       "5  Set 2:   135 lb x 3   125 lb x 3   180 lb x 3   80 lb x 3\n",
       "6  Set 3:  150 lb x 3+  140 lb x 3+  205 lb x 3+  90 lb x 3+"
      ]
     },
     "execution_count": 18,
     "metadata": {},
     "output_type": "execute_result"
    }
   ],
   "source": [
    "main_f = main[main['Week:'].str.contains(week)]\n",
    "main_f = main_f.drop('Week:', 1)\n",
    "main_f"
   ]
  },
  {
   "cell_type": "code",
   "execution_count": 19,
   "metadata": {
    "collapsed": false
   },
   "outputs": [],
   "source": [
    "main_f.index = [1,2,3]"
   ]
  },
  {
   "cell_type": "code",
   "execution_count": 20,
   "metadata": {
    "collapsed": false
   },
   "outputs": [
    {
     "data": {
      "text/html": [
       "<div>\n",
       "<table border=\"1\" class=\"dataframe\">\n",
       "  <thead>\n",
       "    <tr style=\"text-align: right;\">\n",
       "      <th></th>\n",
       "      <th>Set:</th>\n",
       "      <th>Squat</th>\n",
       "      <th>Bench</th>\n",
       "      <th>Deadlift</th>\n",
       "      <th>OHP</th>\n",
       "    </tr>\n",
       "  </thead>\n",
       "  <tbody>\n",
       "    <tr>\n",
       "      <th>1</th>\n",
       "      <td>Set 1:</td>\n",
       "      <td>120 lb x 3</td>\n",
       "      <td>110 lb x 3</td>\n",
       "      <td>160 lb x 3</td>\n",
       "      <td>70 lb x 3</td>\n",
       "    </tr>\n",
       "    <tr>\n",
       "      <th>2</th>\n",
       "      <td>Set 2:</td>\n",
       "      <td>135 lb x 3</td>\n",
       "      <td>125 lb x 3</td>\n",
       "      <td>180 lb x 3</td>\n",
       "      <td>80 lb x 3</td>\n",
       "    </tr>\n",
       "    <tr>\n",
       "      <th>3</th>\n",
       "      <td>Set 3:</td>\n",
       "      <td>150 lb x 3+</td>\n",
       "      <td>140 lb x 3+</td>\n",
       "      <td>205 lb x 3+</td>\n",
       "      <td>90 lb x 3+</td>\n",
       "    </tr>\n",
       "  </tbody>\n",
       "</table>\n",
       "</div>"
      ],
      "text/plain": [
       "     Set:        Squat        Bench     Deadlift         OHP\n",
       "1  Set 1:   120 lb x 3   110 lb x 3   160 lb x 3   70 lb x 3\n",
       "2  Set 2:   135 lb x 3   125 lb x 3   180 lb x 3   80 lb x 3\n",
       "3  Set 3:  150 lb x 3+  140 lb x 3+  205 lb x 3+  90 lb x 3+"
      ]
     },
     "execution_count": 20,
     "metadata": {},
     "output_type": "execute_result"
    }
   ],
   "source": [
    "main_f"
   ]
  },
  {
   "cell_type": "markdown",
   "metadata": {},
   "source": [
    "### Generate Accessory Workout DF"
   ]
  },
  {
   "cell_type": "code",
   "execution_count": 21,
   "metadata": {
    "collapsed": true
   },
   "outputs": [],
   "source": [
    "accessory = andmatt.loc[21:26, 3:6]\n",
    "accessory.columns = main.columns[2:6]\n",
    "accessory.iloc[1:].reset_index(drop = True)\n",
    "accessory.columns.name = None"
   ]
  },
  {
   "cell_type": "code",
   "execution_count": 22,
   "metadata": {
    "collapsed": false
   },
   "outputs": [
    {
     "data": {
      "text/html": [
       "<div>\n",
       "<table border=\"1\" class=\"dataframe\">\n",
       "  <thead>\n",
       "    <tr style=\"text-align: right;\">\n",
       "      <th></th>\n",
       "      <th>Squat</th>\n",
       "      <th>Bench</th>\n",
       "      <th>Deadlift</th>\n",
       "      <th>OHP</th>\n",
       "    </tr>\n",
       "  </thead>\n",
       "  <tbody>\n",
       "    <tr>\n",
       "      <th>21</th>\n",
       "      <td>Hack Squat</td>\n",
       "      <td>Dips</td>\n",
       "      <td>Rows</td>\n",
       "      <td>Sitting D.Bell Press</td>\n",
       "    </tr>\n",
       "    <tr>\n",
       "      <th>22</th>\n",
       "      <td>225lb 4x10</td>\n",
       "      <td>4x10</td>\n",
       "      <td>90lb 4x10</td>\n",
       "      <td>45lb 4x10</td>\n",
       "    </tr>\n",
       "    <tr>\n",
       "      <th>23</th>\n",
       "      <td>Romanian DL</td>\n",
       "      <td>Incline D.Bell Press</td>\n",
       "      <td>Lat Pull Down</td>\n",
       "      <td>Rear Delt Flys</td>\n",
       "    </tr>\n",
       "    <tr>\n",
       "      <th>24</th>\n",
       "      <td>90lb 4x10</td>\n",
       "      <td>45lb 4x10</td>\n",
       "      <td>80lb 4x10</td>\n",
       "      <td>25lb 4x10</td>\n",
       "    </tr>\n",
       "    <tr>\n",
       "      <th>25</th>\n",
       "      <td>Calf Raise</td>\n",
       "      <td>Cable Tricep Ext.</td>\n",
       "      <td>Curls</td>\n",
       "      <td>Front / Side Raises</td>\n",
       "    </tr>\n",
       "    <tr>\n",
       "      <th>26</th>\n",
       "      <td>75lb 4x10</td>\n",
       "      <td>80lb 4x10</td>\n",
       "      <td>30lb 4x10</td>\n",
       "      <td>17.5lb 4x10</td>\n",
       "    </tr>\n",
       "  </tbody>\n",
       "</table>\n",
       "</div>"
      ],
      "text/plain": [
       "          Squat                 Bench       Deadlift                   OHP\n",
       "21   Hack Squat                  Dips           Rows  Sitting D.Bell Press\n",
       "22   225lb 4x10                  4x10      90lb 4x10             45lb 4x10\n",
       "23  Romanian DL  Incline D.Bell Press  Lat Pull Down        Rear Delt Flys\n",
       "24    90lb 4x10             45lb 4x10      80lb 4x10             25lb 4x10\n",
       "25   Calf Raise     Cable Tricep Ext.          Curls   Front / Side Raises\n",
       "26    75lb 4x10             80lb 4x10      30lb 4x10           17.5lb 4x10"
      ]
     },
     "execution_count": 22,
     "metadata": {},
     "output_type": "execute_result"
    }
   ],
   "source": [
    "accessory"
   ]
  },
  {
   "cell_type": "markdown",
   "metadata": {},
   "source": [
    "### Subset Main Workout for Correct Week"
   ]
  },
  {
   "cell_type": "code",
   "execution_count": 23,
   "metadata": {
    "collapsed": false
   },
   "outputs": [
    {
     "data": {
      "text/plain": [
       "'2'"
      ]
     },
     "execution_count": 23,
     "metadata": {},
     "output_type": "execute_result"
    }
   ],
   "source": [
    "week"
   ]
  },
  {
   "cell_type": "code",
   "execution_count": 24,
   "metadata": {
    "collapsed": false
   },
   "outputs": [
    {
     "data": {
      "text/html": [
       "<div>\n",
       "<table border=\"1\" class=\"dataframe\">\n",
       "  <thead>\n",
       "    <tr style=\"text-align: right;\">\n",
       "      <th></th>\n",
       "      <th>Start</th>\n",
       "      <th>End</th>\n",
       "    </tr>\n",
       "  </thead>\n",
       "  <tbody>\n",
       "    <tr>\n",
       "      <th>1</th>\n",
       "      <td>2017-06-04</td>\n",
       "      <td>2017-07-01</td>\n",
       "    </tr>\n",
       "  </tbody>\n",
       "</table>\n",
       "</div>"
      ],
      "text/plain": [
       "       Start        End\n",
       "1 2017-06-04 2017-07-01"
      ]
     },
     "execution_count": 24,
     "metadata": {},
     "output_type": "execute_result"
    }
   ],
   "source": [
    "week_d = dcheck.copy()\n",
    "wdiff = int(week)-1\n",
    "week_d['Start'] = week_d['Start'] + dt.timedelta(weeks = wdiff)\n",
    "week_d['End'] = week_d['End'] + dt.timedelta(weeks = wdiff)\n",
    "week_d"
   ]
  },
  {
   "cell_type": "code",
   "execution_count": 25,
   "metadata": {
    "collapsed": true
   },
   "outputs": [],
   "source": [
    "start = week_d['Start'][1].strftime('%m/%d/%Y')\n",
    "end = week_d['End'][1].strftime('%m/%d/%Y')"
   ]
  },
  {
   "cell_type": "markdown",
   "metadata": {
    "collapsed": true
   },
   "source": [
    "### HTML Compilation"
   ]
  },
  {
   "cell_type": "markdown",
   "metadata": {},
   "source": [
    "#### Generate HTML Tables with Styling"
   ]
  },
  {
   "cell_type": "code",
   "execution_count": 26,
   "metadata": {
    "collapsed": true
   },
   "outputs": [],
   "source": [
    "def recolor(val):\n",
    "    '''\n",
    "    adds css color elements to df\n",
    "    '''\n",
    "    return 'color: white ; background-color: lightskyblue'"
   ]
  },
  {
   "cell_type": "code",
   "execution_count": 27,
   "metadata": {
    "collapsed": true
   },
   "outputs": [],
   "source": [
    "a_html = (accessory.style\n",
    "        .set_properties(**{'text-align': 'center',\n",
    "                          'border':'1px solid',\n",
    "                          'border-collapse': 'collapse',\n",
    "                          'border-color': 'slategray'})\n",
    "        .applymap(recolor, subset = pd.IndexSlice[[21,23,25],]))\n",
    "a_html = a_html.render()"
   ]
  },
  {
   "cell_type": "code",
   "execution_count": 28,
   "metadata": {
    "collapsed": true
   },
   "outputs": [],
   "source": [
    "m_html = main_f.style.set_properties(**{'text-align': 'center',\n",
    "                                       'border':'1px solid',\n",
    "                                       'border-collapse': 'collapse',\n",
    "                                       'border-color': 'slategray'})\n",
    "m_html = m_html.render()"
   ]
  },
  {
   "cell_type": "markdown",
   "metadata": {},
   "source": [
    "#### Full HTML"
   ]
  },
  {
   "cell_type": "code",
   "execution_count": 29,
   "metadata": {
    "collapsed": true
   },
   "outputs": [],
   "source": [
    "html = '''\\\n",
    "<html>\n",
    "  <head> \n",
    "  <title> 5-3-1 Workout of the Week </title> \n",
    "  </head>\n",
    "  \n",
    "  <body>\n",
    "  <h2>5-3-1 Workout of the Week</h2>\n",
    "  \n",
    "    <p>PFA - the workout of the week. It is currently <b>Week {week}</b> <br>\n",
    "       <b>Week {week}</b> goes from {start} till {end}\n",
    "    </p>\n",
    "    \n",
    "    <h4>Main Workout:</h4>\n",
    "    {main_f}\n",
    "    <br>\n",
    "    <h4>Accessory Exercises:</h4>\n",
    "    {accessory}<br>\n",
    "    \n",
    "  </body>\n",
    "</html>\n",
    "'''.format(week = week, start = start, end = end,\n",
    "           main_f = m_html, accessory = a_html)"
   ]
  },
  {
   "cell_type": "markdown",
   "metadata": {},
   "source": [
    "### Export to Dropbox"
   ]
  },
  {
   "cell_type": "code",
   "execution_count": null,
   "metadata": {
    "collapsed": true
   },
   "outputs": [],
   "source": [
    "output = open('Dropbox/1. 531 Workout.html', 'w')"
   ]
  },
  {
   "cell_type": "code",
   "execution_count": null,
   "metadata": {
    "collapsed": true
   },
   "outputs": [],
   "source": [
    "output.write(html)\n",
    "output.close()"
   ]
  }
 ],
 "metadata": {
  "kernelspec": {
   "display_name": "Python 3",
   "language": "python",
   "name": "python3"
  },
  "language_info": {
   "codemirror_mode": {
    "name": "ipython",
    "version": 3
   },
   "file_extension": ".py",
   "mimetype": "text/x-python",
   "name": "python",
   "nbconvert_exporter": "python",
   "pygments_lexer": "ipython3",
   "version": "3.6.0"
  }
 },
 "nbformat": 4,
 "nbformat_minor": 2
}
